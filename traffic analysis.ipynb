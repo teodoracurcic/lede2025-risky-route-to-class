{
 "cells": [
  {
   "cell_type": "markdown",
   "id": "d198d5b6",
   "metadata": {},
   "source": [
    "### 0. Installing & importing libraries"
   ]
  },
  {
   "cell_type": "code",
   "execution_count": 1,
   "id": "2a2a9042",
   "metadata": {},
   "outputs": [],
   "source": [
    "import pandas as pd\n",
    "import os\n",
    "from pathlib import Path\n",
    "import numpy as np\n",
    "import openpyxl\n",
    "import matplotlib.pyplot as plt\n",
    "from dotenv import load_dotenv\n",
    "from transliterate import translit\n",
    "import geocoder\n",
    "\n",
    "import geopandas as gpd\n",
    "from shapely.geometry import Point, box"
   ]
  },
  {
   "cell_type": "code",
   "execution_count": 2,
   "id": "f00c7b85",
   "metadata": {},
   "outputs": [],
   "source": [
    "pd.set_option('display.max_columns', None)\n",
    "np.set_printoptions(threshold=np.inf)"
   ]
  },
  {
   "cell_type": "markdown",
   "id": "1328bfc0",
   "metadata": {},
   "source": [
    "### 1. Traffic accidents data\n",
    "\n",
    "[Source: Serbian police](https://data.gov.rs/sr/datasets/podatsi-o-saobratshajnim-nezgodama-po-politsijskim-upravama-i-opshtinama/)"
   ]
  },
  {
   "cell_type": "markdown",
   "id": "e746a597",
   "metadata": {},
   "source": [
    "##### Getting & merging data"
   ]
  },
  {
   "cell_type": "code",
   "execution_count": null,
   "id": "cdd88897",
   "metadata": {},
   "outputs": [],
   "source": [
    "folder_path = Path(\"/traffic accidents\")\n",
    "excel_files = list(folder_path.glob(\"*.xlsx\"))\n",
    "\n",
    "df_list = []\n",
    "\n",
    "for file in excel_files:\n",
    "    df = pd.read_excel(file, header=None)\n",
    "    df_list.append(df)\n",
    "\n",
    "accidents = pd.concat(df_list, ignore_index=True)"
   ]
  },
  {
   "cell_type": "code",
   "execution_count": null,
   "id": "ea7e7416",
   "metadata": {},
   "outputs": [],
   "source": [
    "accidents.head(2)"
   ]
  },
  {
   "cell_type": "code",
   "execution_count": null,
   "id": "fdcb8533",
   "metadata": {},
   "outputs": [],
   "source": [
    "accidents.columns = [\"id\", \"police_dept\", \"municipality\", \"date_time\", \"longitude\", \"latitude\", \"status\", \"type\", \"details\"] "
   ]
  },
  {
   "cell_type": "code",
   "execution_count": null,
   "id": "a8740e63",
   "metadata": {},
   "outputs": [],
   "source": [
    "accidents.head(2)"
   ]
  },
  {
   "cell_type": "code",
   "execution_count": null,
   "id": "9c02af7e",
   "metadata": {},
   "outputs": [],
   "source": [
    "accidents.shape"
   ]
  },
  {
   "cell_type": "markdown",
   "id": "9f29e981",
   "metadata": {},
   "source": [
    "##### Cleaning data"
   ]
  },
  {
   "cell_type": "code",
   "execution_count": null,
   "id": "889c2db3",
   "metadata": {},
   "outputs": [],
   "source": [
    "accidents[['date', 'time']] = accidents['date_time'].str.split(',', expand=True)\n",
    "accidents['date'] = pd.to_datetime(accidents['date'], format=\"%d.%m.%Y\")\n",
    "accidents['time'] = pd.to_datetime(accidents['time'], format=\"%H:%M\").dt.time"
   ]
  },
  {
   "cell_type": "code",
   "execution_count": null,
   "id": "687ea5cc",
   "metadata": {},
   "outputs": [],
   "source": [
    "accidents['year'] = accidents['date'].dt.year"
   ]
  },
  {
   "cell_type": "code",
   "execution_count": null,
   "id": "10282c34",
   "metadata": {},
   "outputs": [],
   "source": [
    "accidents.dtypes"
   ]
  },
  {
   "cell_type": "code",
   "execution_count": null,
   "id": "92bec24c",
   "metadata": {},
   "outputs": [],
   "source": [
    "accidents.head(2)"
   ]
  },
  {
   "cell_type": "code",
   "execution_count": null,
   "id": "bc71c73a",
   "metadata": {},
   "outputs": [],
   "source": [
    "accidents['status'].unique()"
   ]
  },
  {
   "cell_type": "code",
   "execution_count": null,
   "id": "669e1004",
   "metadata": {},
   "outputs": [],
   "source": [
    "accidents['status'] = accidents['status'].replace({\n",
    "    \"Sa povredjenim\": \"injuries\",\n",
    "    \"Sa mat.stetom\": \"material damage\",\n",
    "    \"Sa poginulim\": \"fatalities\"\n",
    "}, regex=False)"
   ]
  },
  {
   "cell_type": "code",
   "execution_count": null,
   "id": "68b7821a",
   "metadata": {},
   "outputs": [],
   "source": [
    "accidents['type'].unique()"
   ]
  },
  {
   "cell_type": "code",
   "execution_count": null,
   "id": "4e34f08e",
   "metadata": {},
   "outputs": [],
   "source": [
    "accidents['type'] = accidents['type'].replace({\n",
    "\n",
    "    'SN SA NAJMANjE DVA VOZILA – BEZ SKRETANjA': 'two vehicles no turning',\n",
    "    'SN SA NAJMANjE DVA VOZILA – SKRETANjE ILI PRELAZAK': 'two vehicles with turning or crossing',\n",
    "    'SN SA JEDNIM VOZILOM': 'single vehicle',\n",
    "    'SN SA PARKIRANIM VOZILIMA': 'parked vehicles',\n",
    "    'SN SA PEŠACIMA': 'with pedestrians',\n",
    "\n",
    "}, regex=False)"
   ]
  },
  {
   "cell_type": "code",
   "execution_count": null,
   "id": "6d445768",
   "metadata": {},
   "outputs": [],
   "source": [
    "accidents['police_dept'] = accidents['police_dept'].str.lower()\n",
    "accidents['municipality'] = accidents['municipality'].str.lower()"
   ]
  },
  {
   "cell_type": "code",
   "execution_count": null,
   "id": "48a08358",
   "metadata": {},
   "outputs": [],
   "source": [
    "accidents.head(2)"
   ]
  },
  {
   "cell_type": "code",
   "execution_count": null,
   "id": "a5854049",
   "metadata": {},
   "outputs": [],
   "source": [
    "accidents.to_csv('accidents_merged.csv', index=False)"
   ]
  },
  {
   "cell_type": "markdown",
   "id": "b7503dd9",
   "metadata": {},
   "source": [
    "##### Data analysis"
   ]
  },
  {
   "cell_type": "code",
   "execution_count": null,
   "id": "cddcdc86",
   "metadata": {},
   "outputs": [],
   "source": [
    "accidents = pd.read_csv('accidents_merged.csv')"
   ]
  },
  {
   "cell_type": "code",
   "execution_count": null,
   "id": "8282b271",
   "metadata": {},
   "outputs": [],
   "source": [
    "accidents.head(2)"
   ]
  },
  {
   "cell_type": "code",
   "execution_count": null,
   "id": "333e728c",
   "metadata": {},
   "outputs": [],
   "source": [
    "accidents['year'].value_counts().reset_index().sort_values(by='year', ascending=False)"
   ]
  },
  {
   "cell_type": "code",
   "execution_count": null,
   "id": "e5e0ed33",
   "metadata": {},
   "outputs": [],
   "source": [
    "accidents['municipality'].value_counts(normalize=True).reset_index().head(10)"
   ]
  },
  {
   "cell_type": "code",
   "execution_count": null,
   "id": "7e9d3e08",
   "metadata": {},
   "outputs": [],
   "source": [
    "accidents['police_dept'].value_counts(normalize=True).reset_index().head(10)"
   ]
  },
  {
   "cell_type": "code",
   "execution_count": null,
   "id": "6a33806f",
   "metadata": {},
   "outputs": [],
   "source": [
    "accidents['status'].value_counts(normalize=True).reset_index().head(10)"
   ]
  },
  {
   "cell_type": "code",
   "execution_count": null,
   "id": "12f4c312",
   "metadata": {},
   "outputs": [],
   "source": [
    "accidents['type'].value_counts(normalize=True).reset_index().head(10)"
   ]
  },
  {
   "cell_type": "code",
   "execution_count": null,
   "id": "2857b03b",
   "metadata": {},
   "outputs": [],
   "source": [
    "accidents['time'].value_counts(normalize=True).reset_index().head(10)"
   ]
  },
  {
   "cell_type": "code",
   "execution_count": null,
   "id": "598628d8",
   "metadata": {},
   "outputs": [],
   "source": [
    "belgrade_accidents = accidents[accidents.police_dept == 'beograd']\n",
    "belgrade_accidents.head(2)"
   ]
  },
  {
   "cell_type": "code",
   "execution_count": null,
   "id": "c357f712",
   "metadata": {},
   "outputs": [],
   "source": [
    "accidents.shape"
   ]
  },
  {
   "cell_type": "code",
   "execution_count": null,
   "id": "ce89e896",
   "metadata": {},
   "outputs": [],
   "source": [
    "belgrade_accidents.shape"
   ]
  },
  {
   "cell_type": "code",
   "execution_count": null,
   "id": "a74b695a",
   "metadata": {},
   "outputs": [],
   "source": [
    "belgrade_accidents.to_csv('belgrade accidents.csv')"
   ]
  },
  {
   "cell_type": "markdown",
   "id": "28be8dfa",
   "metadata": {},
   "source": [
    "### 2. School locations data\n",
    "\n",
    "[Source: Ministry of Education](https://opendata.mpn.gov.rs)"
   ]
  },
  {
   "cell_type": "markdown",
   "id": "f2f9369f",
   "metadata": {},
   "source": [
    "##### Getting & merging data"
   ]
  },
  {
   "cell_type": "code",
   "execution_count": null,
   "id": "6daf290b",
   "metadata": {},
   "outputs": [],
   "source": [
    "elementary_schools = pd.read_excel('/Users/teodoracurcic/Downloads/Lede/projects/02-traffic near schools/schools/elementary schools.xlsx')\n",
    "elementary_schools[\"type\"] = \"elementary\"\n",
    "\n",
    "high_schools = pd.read_excel('/Users/teodoracurcic/Downloads/Lede/projects/02-traffic near schools/schools/high schools.xlsx')\n",
    "high_schools[\"type\"] = \"high\""
   ]
  },
  {
   "cell_type": "code",
   "execution_count": null,
   "id": "72a711af",
   "metadata": {},
   "outputs": [],
   "source": [
    "elementary_schools.head(1)"
   ]
  },
  {
   "cell_type": "code",
   "execution_count": null,
   "id": "2a74f855",
   "metadata": {},
   "outputs": [],
   "source": [
    "high_schools.head(1)"
   ]
  },
  {
   "cell_type": "code",
   "execution_count": null,
   "id": "49ea7e80",
   "metadata": {},
   "outputs": [],
   "source": [
    "schools = pd.concat([elementary_schools, high_schools], ignore_index=True)\n",
    "schools.head(2)"
   ]
  },
  {
   "cell_type": "markdown",
   "id": "a0a09b78",
   "metadata": {},
   "source": [
    "##### Cleaning data"
   ]
  },
  {
   "cell_type": "code",
   "execution_count": null,
   "id": "87738610",
   "metadata": {},
   "outputs": [],
   "source": [
    "schools = schools.map(lambda x: translit(x, 'sr', reversed=True) if isinstance(x, str) else x)\n",
    "schools.head(2)"
   ]
  },
  {
   "cell_type": "code",
   "execution_count": null,
   "id": "c0c5cd41",
   "metadata": {},
   "outputs": [],
   "source": [
    "schools.dtypes"
   ]
  },
  {
   "cell_type": "code",
   "execution_count": null,
   "id": "dae991e5",
   "metadata": {},
   "outputs": [],
   "source": [
    "schools = schools.drop(columns=[\n",
    "    \"Skolska godina\",\n",
    "    \"Skolska uprava\",\n",
    "    \"Povrsina objekta\",\n",
    "    \"Broj ucionica\",\n",
    "    \"Povrsina ucionica\",\n",
    "    \"Broj kabinete\",\n",
    "    \"Povrsina kabineta\",\n",
    "    \"Broj laboratorija\",\n",
    "    \"Povrsina laboratorija\",\n",
    "    \"Broj radionica\",\n",
    "    \"Povrsina radionica\",\n",
    "    \"Broj kuhinja\",\n",
    "    \"Povrsina kuhinja\",\n",
    "    \"Broj restorana u objektu\",\n",
    "    \"Broj fiskulturnih sala\",\n",
    "    \"Povrsina fiskulturnih sala\",\n",
    "    \"Broj biblioteka\",\n",
    "    \"Naziv lokacije \",\n",
    "    \"Naziv objekta\",\n",
    "    \"Sediste/radna jedinica\",\n",
    "    \"Vrsta Ustanove\"\n",
    "])"
   ]
  },
  {
   "cell_type": "code",
   "execution_count": null,
   "id": "529c77bb",
   "metadata": {},
   "outputs": [],
   "source": [
    "schools = schools.rename(columns={\n",
    "    \"Okrug\": \"district\",\n",
    "    \"Mesto/Grad\": \"city\",\n",
    "    \"Opstina\": \"municipality\",\n",
    "    \"Naziv ustanove\": \"name\",\n",
    "    \"Vrsta Osnivaca\": \"private_public\",\n",
    "    \"Adresa\": \"address\"\n",
    "})"
   ]
  },
  {
   "cell_type": "code",
   "execution_count": null,
   "id": "e998908a",
   "metadata": {},
   "outputs": [],
   "source": [
    "schools.shape"
   ]
  },
  {
   "cell_type": "code",
   "execution_count": null,
   "id": "68cae8aa",
   "metadata": {},
   "outputs": [],
   "source": [
    "schools.dropna(how='all', inplace=True)"
   ]
  },
  {
   "cell_type": "code",
   "execution_count": null,
   "id": "a205ea6c",
   "metadata": {},
   "outputs": [],
   "source": [
    "schools.shape"
   ]
  },
  {
   "cell_type": "code",
   "execution_count": null,
   "id": "3e42530c",
   "metadata": {},
   "outputs": [],
   "source": [
    "schools.dtypes"
   ]
  },
  {
   "cell_type": "code",
   "execution_count": null,
   "id": "e32a1442",
   "metadata": {},
   "outputs": [],
   "source": [
    "schools.head(2)"
   ]
  },
  {
   "cell_type": "code",
   "execution_count": null,
   "id": "35ba101a",
   "metadata": {},
   "outputs": [],
   "source": [
    "schools['district'] = schools['district'].str.lower()\n",
    "schools['city'] = schools['city'].str.lower()\n",
    "schools['municipality'] = schools['municipality'].str.lower()"
   ]
  },
  {
   "cell_type": "code",
   "execution_count": null,
   "id": "8fdcf163",
   "metadata": {},
   "outputs": [],
   "source": [
    "schools['private_public'].unique()"
   ]
  },
  {
   "cell_type": "code",
   "execution_count": null,
   "id": "f39e1416",
   "metadata": {},
   "outputs": [],
   "source": [
    "schools['private_public'] = schools['private_public'].replace({\n",
    "    \"Privatna ustanova\": \"private\",\n",
    "    \"Javna ustanova\": \"public\",\n",
    "}, regex=False)"
   ]
  },
  {
   "cell_type": "code",
   "execution_count": null,
   "id": "9efa59b2",
   "metadata": {},
   "outputs": [],
   "source": [
    "schools.head(1)"
   ]
  },
  {
   "cell_type": "code",
   "execution_count": null,
   "id": "6d66f2d1",
   "metadata": {},
   "outputs": [],
   "source": [
    "schools['district'].value_counts()"
   ]
  },
  {
   "cell_type": "code",
   "execution_count": null,
   "id": "8bc01ef5",
   "metadata": {},
   "outputs": [],
   "source": [
    "belgrade_schools = schools[schools.district == 'grad beograd']\n",
    "belgrade_schools.shape"
   ]
  },
  {
   "cell_type": "code",
   "execution_count": null,
   "id": "a9924e8b",
   "metadata": {},
   "outputs": [],
   "source": [
    "belgrade_schools.to_csv('belgrade schools no coord.csv', index=False)"
   ]
  },
  {
   "cell_type": "markdown",
   "id": "9c32d9dd",
   "metadata": {},
   "source": [
    "##### Geocoding"
   ]
  },
  {
   "cell_type": "code",
   "execution_count": null,
   "id": "d9865e58",
   "metadata": {},
   "outputs": [],
   "source": [
    "belgrade_schools = pd.read_csv('belgrade schools no coord.csv')\n",
    "belgrade_schools.head()"
   ]
  },
  {
   "cell_type": "code",
   "execution_count": null,
   "id": "0e06dd73",
   "metadata": {},
   "outputs": [],
   "source": [
    "belgrade_schools['address'].unique()"
   ]
  },
  {
   "cell_type": "code",
   "execution_count": null,
   "id": "ac199455",
   "metadata": {},
   "outputs": [],
   "source": [
    "belgrade_schools['address'] = belgrade_schools['address'].str.title()"
   ]
  },
  {
   "cell_type": "code",
   "execution_count": null,
   "id": "102326c6",
   "metadata": {},
   "outputs": [],
   "source": [
    "load_dotenv()"
   ]
  },
  {
   "cell_type": "code",
   "execution_count": null,
   "id": "6e77d807",
   "metadata": {},
   "outputs": [],
   "source": [
    "api_key=os.getenv(\"api_key\")"
   ]
  },
  {
   "cell_type": "code",
   "execution_count": null,
   "id": "0a81e289",
   "metadata": {},
   "outputs": [],
   "source": [
    "latitudes = []\n",
    "longitudes = []\n",
    "\n",
    "for idx, row in belgrade_schools.iterrows():\n",
    "    full_address = row['address']\n",
    "    g = geocoder.google(full_address, key=api_key)\n",
    "    if g.latlng:\n",
    "        lat, lon = g.latlng\n",
    "    else:\n",
    "        lat, lon = None, None\n",
    "    latitudes.append(lat)\n",
    "    longitudes.append(lon)\n",
    "\n",
    "belgrade_schools[\"latitude\"] = latitudes\n",
    "belgrade_schools[\"longitude\"] = longitudes"
   ]
  },
  {
   "cell_type": "code",
   "execution_count": null,
   "id": "e8f6c040",
   "metadata": {},
   "outputs": [],
   "source": [
    "belgrade_schools.head()"
   ]
  },
  {
   "cell_type": "code",
   "execution_count": null,
   "id": "f02e64a9",
   "metadata": {},
   "outputs": [],
   "source": [
    "belgrade_schools['name'].unique()"
   ]
  },
  {
   "cell_type": "code",
   "execution_count": null,
   "id": "783dd555",
   "metadata": {},
   "outputs": [],
   "source": [
    "belgrade_schools['name'] = belgrade_schools['name'].str.replace('\"', '', regex=False)\n",
    "belgrade_schools.head(2)"
   ]
  },
  {
   "cell_type": "code",
   "execution_count": null,
   "id": "bd30ea56",
   "metadata": {},
   "outputs": [],
   "source": [
    "belgrade_schools.to_csv('belgrade schools.csv', index=False)"
   ]
  },
  {
   "cell_type": "markdown",
   "id": "509799a0",
   "metadata": {},
   "source": [
    "### 3. Preparing data for analysis in QGIS & Mapbox"
   ]
  },
  {
   "cell_type": "code",
   "execution_count": null,
   "id": "531d02a6",
   "metadata": {},
   "outputs": [],
   "source": [
    "schools = pd.read_csv('belgrade schools.csv')\n",
    "accidents = pd.read_csv('belgrade accidents.csv')"
   ]
  },
  {
   "cell_type": "code",
   "execution_count": null,
   "id": "2376f7e6",
   "metadata": {},
   "outputs": [],
   "source": [
    "accidents.head(2)"
   ]
  },
  {
   "cell_type": "code",
   "execution_count": null,
   "id": "842ad9d1",
   "metadata": {},
   "outputs": [],
   "source": [
    "print(accidents[\"longitude\"].min(), accidents[\"longitude\"].max())\n",
    "print(accidents[\"latitude\"].min(), accidents[\"latitude\"].max())"
   ]
  },
  {
   "cell_type": "code",
   "execution_count": null,
   "id": "81cb4313",
   "metadata": {},
   "outputs": [],
   "source": [
    "def fix_coord_precisely(val):\n",
    "    try:\n",
    "        val = float(val)\n",
    "    except:\n",
    "        return None\n",
    "    if val > 180:\n",
    "        while val > 180:\n",
    "            val = val / 10\n",
    "        return val\n",
    "    return val\n",
    "\n",
    "accidents[\"longitude\"] = accidents[\"longitude\"].apply(fix_coord_precisely)\n",
    "accidents[\"latitude\"] = accidents[\"latitude\"].apply(fix_coord_precisely)"
   ]
  },
  {
   "cell_type": "code",
   "execution_count": null,
   "id": "bb2a79c8",
   "metadata": {},
   "outputs": [],
   "source": [
    "print(accidents[\"longitude\"].min(), accidents[\"longitude\"].max())\n",
    "print(accidents[\"latitude\"].min(), accidents[\"latitude\"].max())"
   ]
  },
  {
   "cell_type": "code",
   "execution_count": null,
   "id": "2e9b3988",
   "metadata": {},
   "outputs": [],
   "source": [
    "accidents = accidents[\n",
    "    (accidents[\"longitude\"].between(19, 22)) &\n",
    "    (accidents[\"latitude\"].between(44, 46))\n",
    "].copy()"
   ]
  },
  {
   "cell_type": "code",
   "execution_count": null,
   "id": "9a09050e",
   "metadata": {},
   "outputs": [],
   "source": [
    "accidents[\"geometry\"] = accidents.apply(lambda row: Point(row[\"longitude\"], row[\"latitude\"]), axis=1)\n",
    "accidents_gdf = gpd.GeoDataFrame(accidents, geometry=\"geometry\", crs=\"EPSG:4326\")\n",
    "\n",
    "accidents_gdf = accidents_gdf.to_crs(epsg=32634)"
   ]
  },
  {
   "cell_type": "code",
   "execution_count": null,
   "id": "6ca9c870",
   "metadata": {},
   "outputs": [],
   "source": [
    "accidents_gdf.to_file(\"accidents_cleaned.gpkg\", driver=\"GPKG\") "
   ]
  },
  {
   "cell_type": "code",
   "execution_count": null,
   "id": "91d3ff7b",
   "metadata": {},
   "outputs": [],
   "source": [
    "schools.head(2)"
   ]
  },
  {
   "cell_type": "code",
   "execution_count": null,
   "id": "f40e3530",
   "metadata": {},
   "outputs": [],
   "source": [
    "print(schools[\"longitude\"].min(), schools[\"longitude\"].max())\n",
    "print(schools[\"latitude\"].min(), schools[\"latitude\"].max())"
   ]
  },
  {
   "cell_type": "code",
   "execution_count": null,
   "id": "1efc1176",
   "metadata": {},
   "outputs": [],
   "source": [
    "schools = schools[\n",
    "    (schools[\"longitude\"].between(19, 22)) &\n",
    "    (schools[\"latitude\"].between(44, 46))\n",
    "].copy()"
   ]
  },
  {
   "cell_type": "code",
   "execution_count": null,
   "id": "bddff3c5",
   "metadata": {},
   "outputs": [],
   "source": [
    "schools[\"geometry\"] = schools.apply(lambda row: Point(row[\"longitude\"], row[\"latitude\"]), axis=1)\n",
    "schools_gdf = gpd.GeoDataFrame(schools, geometry=\"geometry\", crs=\"EPSG:4326\")\n",
    "\n",
    "schools_gdf = schools_gdf.to_crs(epsg=32634)"
   ]
  },
  {
   "cell_type": "code",
   "execution_count": null,
   "id": "421375ae",
   "metadata": {},
   "outputs": [],
   "source": [
    "schools_gdf.to_file(\"schools.gpkg\", driver=\"GPKG\") "
   ]
  },
  {
   "cell_type": "markdown",
   "id": "c6c7cf68",
   "metadata": {},
   "source": [
    "### 4. Data analysis"
   ]
  },
  {
   "cell_type": "code",
   "execution_count": 3,
   "id": "5912001e",
   "metadata": {},
   "outputs": [],
   "source": [
    "schools_gdf = gpd.read_file('schools.gpkg')\n",
    "accidents_gdf = gpd.read_file('accidents_cleaned.gpkg')\n",
    "traffic_grids = gpd.read_file('schools per zone.geojson')"
   ]
  },
  {
   "cell_type": "code",
   "execution_count": 4,
   "id": "561b49da",
   "metadata": {},
   "outputs": [
    {
     "data": {
      "text/html": [
       "<div>\n",
       "<style scoped>\n",
       "    .dataframe tbody tr th:only-of-type {\n",
       "        vertical-align: middle;\n",
       "    }\n",
       "\n",
       "    .dataframe tbody tr th {\n",
       "        vertical-align: top;\n",
       "    }\n",
       "\n",
       "    .dataframe thead th {\n",
       "        text-align: right;\n",
       "    }\n",
       "</style>\n",
       "<table border=\"1\" class=\"dataframe\">\n",
       "  <thead>\n",
       "    <tr style=\"text-align: right;\">\n",
       "      <th></th>\n",
       "      <th>Unnamed: 0</th>\n",
       "      <th>id</th>\n",
       "      <th>police_dept</th>\n",
       "      <th>municipality</th>\n",
       "      <th>date_time</th>\n",
       "      <th>longitude</th>\n",
       "      <th>latitude</th>\n",
       "      <th>status</th>\n",
       "      <th>type</th>\n",
       "      <th>details</th>\n",
       "      <th>date</th>\n",
       "      <th>time</th>\n",
       "      <th>year</th>\n",
       "      <th>geometry</th>\n",
       "    </tr>\n",
       "  </thead>\n",
       "  <tbody>\n",
       "    <tr>\n",
       "      <th>0</th>\n",
       "      <td>0</td>\n",
       "      <td>1309622</td>\n",
       "      <td>beograd</td>\n",
       "      <td>barajevo</td>\n",
       "      <td>01.01.2021,07:00</td>\n",
       "      <td>20.335314</td>\n",
       "      <td>44.583922</td>\n",
       "      <td>injuries</td>\n",
       "      <td>two vehicles no turning</td>\n",
       "      <td>Najmanje dva vozila koja se kreću u istom smer...</td>\n",
       "      <td>2021-01-01</td>\n",
       "      <td>07:00:00</td>\n",
       "      <td>2021</td>\n",
       "      <td>POINT (447234.794 4936945.946)</td>\n",
       "    </tr>\n",
       "  </tbody>\n",
       "</table>\n",
       "</div>"
      ],
      "text/plain": [
       "   Unnamed: 0       id police_dept municipality         date_time  longitude  \\\n",
       "0           0  1309622     beograd     barajevo  01.01.2021,07:00  20.335314   \n",
       "\n",
       "    latitude    status                     type  \\\n",
       "0  44.583922  injuries  two vehicles no turning   \n",
       "\n",
       "                                             details        date      time  \\\n",
       "0  Najmanje dva vozila koja se kreću u istom smer...  2021-01-01  07:00:00   \n",
       "\n",
       "   year                        geometry  \n",
       "0  2021  POINT (447234.794 4936945.946)  "
      ]
     },
     "execution_count": 4,
     "metadata": {},
     "output_type": "execute_result"
    }
   ],
   "source": [
    "accidents_gdf.head(1)"
   ]
  },
  {
   "cell_type": "code",
   "execution_count": 5,
   "id": "977b1ce3",
   "metadata": {},
   "outputs": [
    {
     "data": {
      "text/html": [
       "<div>\n",
       "<style scoped>\n",
       "    .dataframe tbody tr th:only-of-type {\n",
       "        vertical-align: middle;\n",
       "    }\n",
       "\n",
       "    .dataframe tbody tr th {\n",
       "        vertical-align: top;\n",
       "    }\n",
       "\n",
       "    .dataframe thead th {\n",
       "        text-align: right;\n",
       "    }\n",
       "</style>\n",
       "<table border=\"1\" class=\"dataframe\">\n",
       "  <thead>\n",
       "    <tr style=\"text-align: right;\">\n",
       "      <th></th>\n",
       "      <th>district</th>\n",
       "      <th>city</th>\n",
       "      <th>municipality</th>\n",
       "      <th>name</th>\n",
       "      <th>private_public</th>\n",
       "      <th>address</th>\n",
       "      <th>type</th>\n",
       "      <th>latitude</th>\n",
       "      <th>longitude</th>\n",
       "      <th>geometry</th>\n",
       "    </tr>\n",
       "  </thead>\n",
       "  <tbody>\n",
       "    <tr>\n",
       "      <th>0</th>\n",
       "      <td>grad beograd</td>\n",
       "      <td>beograd (savski venac)</td>\n",
       "      <td>savski venac</td>\n",
       "      <td>OŠ Zvezdobrojci</td>\n",
       "      <td>private</td>\n",
       "      <td>Drinićka 5 A/B, Beograd (Savski Venac), Savski...</td>\n",
       "      <td>elementary</td>\n",
       "      <td>44.790445</td>\n",
       "      <td>20.430742</td>\n",
       "      <td>POINT (454970.514 4959829.523)</td>\n",
       "    </tr>\n",
       "  </tbody>\n",
       "</table>\n",
       "</div>"
      ],
      "text/plain": [
       "       district                    city  municipality             name  \\\n",
       "0  grad beograd  beograd (savski venac)  savski venac  OŠ Zvezdobrojci   \n",
       "\n",
       "  private_public                                            address  \\\n",
       "0        private  Drinićka 5 A/B, Beograd (Savski Venac), Savski...   \n",
       "\n",
       "         type   latitude  longitude                        geometry  \n",
       "0  elementary  44.790445  20.430742  POINT (454970.514 4959829.523)  "
      ]
     },
     "execution_count": 5,
     "metadata": {},
     "output_type": "execute_result"
    }
   ],
   "source": [
    "schools_gdf.head(1)"
   ]
  },
  {
   "cell_type": "code",
   "execution_count": 6,
   "id": "22485e1c",
   "metadata": {},
   "outputs": [
    {
     "data": {
      "text/html": [
       "<div>\n",
       "<style scoped>\n",
       "    .dataframe tbody tr th:only-of-type {\n",
       "        vertical-align: middle;\n",
       "    }\n",
       "\n",
       "    .dataframe tbody tr th {\n",
       "        vertical-align: top;\n",
       "    }\n",
       "\n",
       "    .dataframe thead th {\n",
       "        text-align: right;\n",
       "    }\n",
       "</style>\n",
       "<table border=\"1\" class=\"dataframe\">\n",
       "  <thead>\n",
       "    <tr style=\"text-align: right;\">\n",
       "      <th></th>\n",
       "      <th>id</th>\n",
       "      <th>left</th>\n",
       "      <th>top</th>\n",
       "      <th>right</th>\n",
       "      <th>bottom</th>\n",
       "      <th>row_index</th>\n",
       "      <th>col_index</th>\n",
       "      <th>accidents_count</th>\n",
       "      <th>danger_level</th>\n",
       "      <th>district_count</th>\n",
       "      <th>city_count</th>\n",
       "      <th>municipality_count</th>\n",
       "      <th>private_public_count</th>\n",
       "      <th>type_count</th>\n",
       "      <th>geometry</th>\n",
       "    </tr>\n",
       "  </thead>\n",
       "  <tbody>\n",
       "    <tr>\n",
       "      <th>0</th>\n",
       "      <td>109</td>\n",
       "      <td>417051.316407</td>\n",
       "      <td>4.938592e+06</td>\n",
       "      <td>417551.316407</td>\n",
       "      <td>4.938092e+06</td>\n",
       "      <td>108</td>\n",
       "      <td>0</td>\n",
       "      <td>0.0</td>\n",
       "      <td>0–1</td>\n",
       "      <td>NaN</td>\n",
       "      <td>NaN</td>\n",
       "      <td>NaN</td>\n",
       "      <td>NaN</td>\n",
       "      <td>NaN</td>\n",
       "      <td>MULTIPOLYGON (((19.96119 44.59371, 19.96121 44...</td>\n",
       "    </tr>\n",
       "  </tbody>\n",
       "</table>\n",
       "</div>"
      ],
      "text/plain": [
       "    id           left           top          right        bottom  row_index  \\\n",
       "0  109  417051.316407  4.938592e+06  417551.316407  4.938092e+06        108   \n",
       "\n",
       "   col_index  accidents_count danger_level  district_count  city_count  \\\n",
       "0          0              0.0          0–1             NaN         NaN   \n",
       "\n",
       "   municipality_count  private_public_count  type_count  \\\n",
       "0                 NaN                   NaN         NaN   \n",
       "\n",
       "                                            geometry  \n",
       "0  MULTIPOLYGON (((19.96119 44.59371, 19.96121 44...  "
      ]
     },
     "execution_count": 6,
     "metadata": {},
     "output_type": "execute_result"
    }
   ],
   "source": [
    "traffic_grids.head(1)"
   ]
  },
  {
   "cell_type": "markdown",
   "id": "5ae1c5b6",
   "metadata": {},
   "source": [
    "#### 4.1. Accidents near schools - 250m"
   ]
  },
  {
   "cell_type": "code",
   "execution_count": 7,
   "id": "6b9298ec",
   "metadata": {},
   "outputs": [],
   "source": [
    "schools_gdf = schools_gdf.rename(columns={'geometry':'geometry_old'})"
   ]
  },
  {
   "cell_type": "code",
   "execution_count": 8,
   "id": "46e97a5d",
   "metadata": {},
   "outputs": [
    {
     "data": {
      "text/html": [
       "<div>\n",
       "<style scoped>\n",
       "    .dataframe tbody tr th:only-of-type {\n",
       "        vertical-align: middle;\n",
       "    }\n",
       "\n",
       "    .dataframe tbody tr th {\n",
       "        vertical-align: top;\n",
       "    }\n",
       "\n",
       "    .dataframe thead th {\n",
       "        text-align: right;\n",
       "    }\n",
       "</style>\n",
       "<table border=\"1\" class=\"dataframe\">\n",
       "  <thead>\n",
       "    <tr style=\"text-align: right;\">\n",
       "      <th></th>\n",
       "      <th>district</th>\n",
       "      <th>city</th>\n",
       "      <th>municipality</th>\n",
       "      <th>name</th>\n",
       "      <th>private_public</th>\n",
       "      <th>address</th>\n",
       "      <th>type</th>\n",
       "      <th>latitude</th>\n",
       "      <th>longitude</th>\n",
       "      <th>geometry_old</th>\n",
       "    </tr>\n",
       "  </thead>\n",
       "  <tbody>\n",
       "    <tr>\n",
       "      <th>0</th>\n",
       "      <td>grad beograd</td>\n",
       "      <td>beograd (savski venac)</td>\n",
       "      <td>savski venac</td>\n",
       "      <td>OŠ Zvezdobrojci</td>\n",
       "      <td>private</td>\n",
       "      <td>Drinićka 5 A/B, Beograd (Savski Venac), Savski...</td>\n",
       "      <td>elementary</td>\n",
       "      <td>44.790445</td>\n",
       "      <td>20.430742</td>\n",
       "      <td>POINT (454970.514 4959829.523)</td>\n",
       "    </tr>\n",
       "  </tbody>\n",
       "</table>\n",
       "</div>"
      ],
      "text/plain": [
       "       district                    city  municipality             name  \\\n",
       "0  grad beograd  beograd (savski venac)  savski venac  OŠ Zvezdobrojci   \n",
       "\n",
       "  private_public                                            address  \\\n",
       "0        private  Drinićka 5 A/B, Beograd (Savski Venac), Savski...   \n",
       "\n",
       "         type   latitude  longitude                    geometry_old  \n",
       "0  elementary  44.790445  20.430742  POINT (454970.514 4959829.523)  "
      ]
     },
     "execution_count": 8,
     "metadata": {},
     "output_type": "execute_result"
    }
   ],
   "source": [
    "schools_gdf.head(1)"
   ]
  },
  {
   "cell_type": "code",
   "execution_count": 9,
   "id": "e19ed016",
   "metadata": {},
   "outputs": [
    {
     "data": {
      "text/html": [
       "<div>\n",
       "<style scoped>\n",
       "    .dataframe tbody tr th:only-of-type {\n",
       "        vertical-align: middle;\n",
       "    }\n",
       "\n",
       "    .dataframe tbody tr th {\n",
       "        vertical-align: top;\n",
       "    }\n",
       "\n",
       "    .dataframe thead th {\n",
       "        text-align: right;\n",
       "    }\n",
       "</style>\n",
       "<table border=\"1\" class=\"dataframe\">\n",
       "  <thead>\n",
       "    <tr style=\"text-align: right;\">\n",
       "      <th></th>\n",
       "      <th>district</th>\n",
       "      <th>city</th>\n",
       "      <th>municipality</th>\n",
       "      <th>name</th>\n",
       "      <th>private_public</th>\n",
       "      <th>address</th>\n",
       "      <th>type</th>\n",
       "      <th>latitude</th>\n",
       "      <th>longitude</th>\n",
       "      <th>geometry_old</th>\n",
       "      <th>geometry</th>\n",
       "    </tr>\n",
       "  </thead>\n",
       "  <tbody>\n",
       "    <tr>\n",
       "      <th>0</th>\n",
       "      <td>grad beograd</td>\n",
       "      <td>beograd (savski venac)</td>\n",
       "      <td>savski venac</td>\n",
       "      <td>OŠ Zvezdobrojci</td>\n",
       "      <td>private</td>\n",
       "      <td>Drinićka 5 A/B, Beograd (Savski Venac), Savski...</td>\n",
       "      <td>elementary</td>\n",
       "      <td>44.790445</td>\n",
       "      <td>20.430742</td>\n",
       "      <td>POINT (454970.514 4959829.523)</td>\n",
       "      <td>POLYGON ((455220.514 4959829.523, 455219.31 49...</td>\n",
       "    </tr>\n",
       "  </tbody>\n",
       "</table>\n",
       "</div>"
      ],
      "text/plain": [
       "       district                    city  municipality             name  \\\n",
       "0  grad beograd  beograd (savski venac)  savski venac  OŠ Zvezdobrojci   \n",
       "\n",
       "  private_public                                            address  \\\n",
       "0        private  Drinićka 5 A/B, Beograd (Savski Venac), Savski...   \n",
       "\n",
       "         type   latitude  longitude                    geometry_old  \\\n",
       "0  elementary  44.790445  20.430742  POINT (454970.514 4959829.523)   \n",
       "\n",
       "                                            geometry  \n",
       "0  POLYGON ((455220.514 4959829.523, 455219.31 49...  "
      ]
     },
     "execution_count": 9,
     "metadata": {},
     "output_type": "execute_result"
    }
   ],
   "source": [
    "schools_gdf['geometry'] = schools_gdf.geometry_old.buffer(250)\n",
    "schools_gdf.head(1)"
   ]
  },
  {
   "cell_type": "code",
   "execution_count": 10,
   "id": "43722ca2",
   "metadata": {},
   "outputs": [
    {
     "data": {
      "text/plain": [
       "'geometry'"
      ]
     },
     "execution_count": 10,
     "metadata": {},
     "output_type": "execute_result"
    }
   ],
   "source": [
    "schools_gdf.geometry.name"
   ]
  },
  {
   "cell_type": "code",
   "execution_count": 11,
   "id": "0d79333f",
   "metadata": {},
   "outputs": [
    {
     "data": {
      "text/html": [
       "<div>\n",
       "<style scoped>\n",
       "    .dataframe tbody tr th:only-of-type {\n",
       "        vertical-align: middle;\n",
       "    }\n",
       "\n",
       "    .dataframe tbody tr th {\n",
       "        vertical-align: top;\n",
       "    }\n",
       "\n",
       "    .dataframe thead th {\n",
       "        text-align: right;\n",
       "    }\n",
       "</style>\n",
       "<table border=\"1\" class=\"dataframe\">\n",
       "  <thead>\n",
       "    <tr style=\"text-align: right;\">\n",
       "      <th></th>\n",
       "      <th>Unnamed: 0</th>\n",
       "      <th>id</th>\n",
       "      <th>police_dept</th>\n",
       "      <th>municipality_left</th>\n",
       "      <th>date_time</th>\n",
       "      <th>longitude_left</th>\n",
       "      <th>latitude_left</th>\n",
       "      <th>status</th>\n",
       "      <th>type_left</th>\n",
       "      <th>details</th>\n",
       "      <th>date</th>\n",
       "      <th>time</th>\n",
       "      <th>year</th>\n",
       "      <th>geometry</th>\n",
       "      <th>index_right</th>\n",
       "      <th>district</th>\n",
       "      <th>city</th>\n",
       "      <th>municipality_right</th>\n",
       "      <th>name</th>\n",
       "      <th>private_public</th>\n",
       "      <th>address</th>\n",
       "      <th>type_right</th>\n",
       "      <th>latitude_right</th>\n",
       "      <th>longitude_right</th>\n",
       "      <th>geometry_old</th>\n",
       "    </tr>\n",
       "  </thead>\n",
       "  <tbody>\n",
       "    <tr>\n",
       "      <th>7</th>\n",
       "      <td>7</td>\n",
       "      <td>1312113</td>\n",
       "      <td>beograd</td>\n",
       "      <td>barajevo</td>\n",
       "      <td>28.01.2021,19:30</td>\n",
       "      <td>20.41669</td>\n",
       "      <td>44.5783</td>\n",
       "      <td>material damage</td>\n",
       "      <td>single vehicle</td>\n",
       "      <td>Nezgode sa učešćem jednog vozila i preprekama ...</td>\n",
       "      <td>2021-01-28</td>\n",
       "      <td>19:30:00</td>\n",
       "      <td>2021</td>\n",
       "      <td>POINT (453690.26 4936272.072)</td>\n",
       "      <td>440</td>\n",
       "      <td>grad beograd</td>\n",
       "      <td>barajevo</td>\n",
       "      <td>barajevo</td>\n",
       "      <td>Srednja škola</td>\n",
       "      <td>public</td>\n",
       "      <td>Svetosavska 4A, Barajevo, Barajevo</td>\n",
       "      <td>high</td>\n",
       "      <td>44.578048</td>\n",
       "      <td>20.416468</td>\n",
       "      <td>POINT (453672.466 4936244.161)</td>\n",
       "    </tr>\n",
       "  </tbody>\n",
       "</table>\n",
       "</div>"
      ],
      "text/plain": [
       "   Unnamed: 0       id police_dept municipality_left         date_time  \\\n",
       "7           7  1312113     beograd          barajevo  28.01.2021,19:30   \n",
       "\n",
       "   longitude_left  latitude_left           status       type_left  \\\n",
       "7        20.41669        44.5783  material damage  single vehicle   \n",
       "\n",
       "                                             details        date      time  \\\n",
       "7  Nezgode sa učešćem jednog vozila i preprekama ...  2021-01-28  19:30:00   \n",
       "\n",
       "   year                       geometry  index_right      district      city  \\\n",
       "7  2021  POINT (453690.26 4936272.072)          440  grad beograd  barajevo   \n",
       "\n",
       "  municipality_right           name private_public  \\\n",
       "7           barajevo  Srednja škola         public   \n",
       "\n",
       "                              address type_right  latitude_right  \\\n",
       "7  Svetosavska 4A, Barajevo, Barajevo       high       44.578048   \n",
       "\n",
       "   longitude_right                    geometry_old  \n",
       "7        20.416468  POINT (453672.466 4936244.161)  "
      ]
     },
     "execution_count": 11,
     "metadata": {},
     "output_type": "execute_result"
    }
   ],
   "source": [
    "accidents_near_schools = gpd.sjoin(accidents_gdf, schools_gdf, how='inner', predicate='within')\n",
    "accidents_near_schools.head(1)"
   ]
  },
  {
   "cell_type": "code",
   "execution_count": 12,
   "id": "75f3d6a5",
   "metadata": {},
   "outputs": [
    {
     "data": {
      "text/plain": [
       "(95570, 25)"
      ]
     },
     "execution_count": 12,
     "metadata": {},
     "output_type": "execute_result"
    }
   ],
   "source": [
    "accidents_near_schools.shape"
   ]
  },
  {
   "cell_type": "code",
   "execution_count": 13,
   "id": "fd5f9755",
   "metadata": {},
   "outputs": [
    {
     "data": {
      "text/plain": [
       "(143280, 14)"
      ]
     },
     "execution_count": 13,
     "metadata": {},
     "output_type": "execute_result"
    }
   ],
   "source": [
    "accidents_gdf.shape"
   ]
  },
  {
   "cell_type": "code",
   "execution_count": 14,
   "id": "800c16e1",
   "metadata": {},
   "outputs": [
    {
     "name": "stdout",
     "output_type": "stream",
     "text": [
      "66.70% accidents happen near school - up untill 250m from the school\n"
     ]
    }
   ],
   "source": [
    "print(f'{((95570/143280)*100):.2f}% accidents happen near school - up untill 250m from the school')"
   ]
  },
  {
   "cell_type": "code",
   "execution_count": 15,
   "id": "d0c49c55",
   "metadata": {},
   "outputs": [
    {
     "data": {
      "text/plain": [
       "status\n",
       "material damage    0.744334\n",
       "injuries           0.253218\n",
       "fatalities         0.002448\n",
       "Name: proportion, dtype: float64"
      ]
     },
     "execution_count": 15,
     "metadata": {},
     "output_type": "execute_result"
    }
   ],
   "source": [
    "accidents_near_schools['status'].value_counts(normalize=True)"
   ]
  },
  {
   "cell_type": "code",
   "execution_count": 16,
   "id": "4b54745e",
   "metadata": {},
   "outputs": [
    {
     "data": {
      "text/plain": [
       "type_right\n",
       "elementary    0.553197\n",
       "high          0.446803\n",
       "Name: proportion, dtype: float64"
      ]
     },
     "execution_count": 16,
     "metadata": {},
     "output_type": "execute_result"
    }
   ],
   "source": [
    "accidents_near_schools['type_right'].value_counts(normalize=True)"
   ]
  },
  {
   "cell_type": "code",
   "execution_count": 17,
   "id": "c6e06ee3",
   "metadata": {},
   "outputs": [
    {
     "data": {
      "text/plain": [
       "type\n",
       "elementary    0.728723\n",
       "high          0.271277\n",
       "Name: proportion, dtype: float64"
      ]
     },
     "execution_count": 17,
     "metadata": {},
     "output_type": "execute_result"
    }
   ],
   "source": [
    "schools_gdf['type'].value_counts(normalize=True)"
   ]
  },
  {
   "cell_type": "code",
   "execution_count": 18,
   "id": "950d6612",
   "metadata": {},
   "outputs": [
    {
     "data": {
      "text/plain": [
       "<Axes: ylabel='municipality_right'>"
      ]
     },
     "execution_count": 18,
     "metadata": {},
     "output_type": "execute_result"
    },
    {
     "data": {
      "image/png": "[encoded data removed]",
      "text/plain": [
       "<Figure size 2000x400 with 1 Axes>"
      ]
     },
     "metadata": {},
     "output_type": "display_data"
    }
   ],
   "source": [
    "accidents_near_schools['municipality_right'].value_counts(normalize=True).plot(kind='barh', figsize=(20,4))"
   ]
  },
  {
   "cell_type": "code",
   "execution_count": 19,
   "id": "6fbdb270",
   "metadata": {},
   "outputs": [
    {
     "data": {
      "text/plain": [
       "Unnamed: 0               int64\n",
       "id                       int64\n",
       "police_dept             object\n",
       "municipality_left       object\n",
       "date_time               object\n",
       "longitude_left         float64\n",
       "latitude_left          float64\n",
       "status                  object\n",
       "type_left               object\n",
       "details                 object\n",
       "date                    object\n",
       "time                    object\n",
       "year                     int64\n",
       "geometry              geometry\n",
       "index_right              int64\n",
       "district                object\n",
       "city                    object\n",
       "municipality_right      object\n",
       "name                    object\n",
       "private_public          object\n",
       "address                 object\n",
       "type_right              object\n",
       "latitude_right         float64\n",
       "longitude_right        float64\n",
       "geometry_old          geometry\n",
       "dtype: object"
      ]
     },
     "execution_count": 19,
     "metadata": {},
     "output_type": "execute_result"
    }
   ],
   "source": [
    "accidents_near_schools.dtypes"
   ]
  },
  {
   "cell_type": "code",
   "execution_count": 20,
   "id": "5e588c4d",
   "metadata": {},
   "outputs": [
    {
     "data": {
      "text/plain": [
       "<Axes: ylabel='hour'>"
      ]
     },
     "execution_count": 20,
     "metadata": {},
     "output_type": "execute_result"
    },
    {
     "data": {
      "image/png": "[encoded data removed]",
      "text/plain": [
       "<Figure size 2000x500 with 1 Axes>"
      ]
     },
     "metadata": {},
     "output_type": "display_data"
    }
   ],
   "source": [
    "accidents_near_schools['hour'] = pd.to_datetime(accidents_near_schools['time'], format = '%H:%M:%S').dt.hour\n",
    "accidents_near_schools['hour'].value_counts(normalize=True).plot(kind='barh' , figsize=(20,5))"
   ]
  },
  {
   "cell_type": "code",
   "execution_count": 21,
   "id": "bc8761a7",
   "metadata": {},
   "outputs": [
    {
     "data": {
      "image/png": "[encoded data removed]",
      "text/plain": [
       "<Figure size 1000x600 with 1 Axes>"
      ]
     },
     "metadata": {},
     "output_type": "display_data"
    }
   ],
   "source": [
    "hour_counts = accidents_near_schools['hour'].value_counts(normalize=True)\n",
    "\n",
    "colors = ['red' if hour in [7,8,9,13,14,15] else 'steelblue' for hour in hour_counts.index]\n",
    "\n",
    "hour_counts.plot(kind='barh', color=colors, figsize=(10,6))\n",
    "\n",
    "plt.title(\"Traffic Accidents Near Schools by Hour\")\n",
    "plt.show()"
   ]
  },
  {
   "cell_type": "markdown",
   "id": "d0eb98e0",
   "metadata": {},
   "source": [
    "#### 4.2. Number of schools in \"danger zones\""
   ]
  },
  {
   "cell_type": "code",
   "execution_count": 22,
   "id": "54c178c6",
   "metadata": {},
   "outputs": [
    {
     "data": {
      "text/plain": [
       "id                         int32\n",
       "left                     float64\n",
       "top                      float64\n",
       "right                    float64\n",
       "bottom                   float64\n",
       "row_index                  int32\n",
       "col_index                  int32\n",
       "accidents_count          float64\n",
       "danger_level              object\n",
       "district_count           float64\n",
       "city_count               float64\n",
       "municipality_count       float64\n",
       "private_public_count     float64\n",
       "type_count               float64\n",
       "geometry                geometry\n",
       "dtype: object"
      ]
     },
     "execution_count": 22,
     "metadata": {},
     "output_type": "execute_result"
    }
   ],
   "source": [
    "traffic_grids.dtypes"
   ]
  },
  {
   "cell_type": "code",
   "execution_count": 33,
   "id": "b799c106",
   "metadata": {},
   "outputs": [
    {
     "data": {
      "text/html": [
       "<div>\n",
       "<style scoped>\n",
       "    .dataframe tbody tr th:only-of-type {\n",
       "        vertical-align: middle;\n",
       "    }\n",
       "\n",
       "    .dataframe tbody tr th {\n",
       "        vertical-align: top;\n",
       "    }\n",
       "\n",
       "    .dataframe thead th {\n",
       "        text-align: right;\n",
       "    }\n",
       "</style>\n",
       "<table border=\"1\" class=\"dataframe\">\n",
       "  <thead>\n",
       "    <tr style=\"text-align: right;\">\n",
       "      <th></th>\n",
       "      <th>id</th>\n",
       "      <th>left</th>\n",
       "      <th>top</th>\n",
       "      <th>right</th>\n",
       "      <th>bottom</th>\n",
       "      <th>row_index</th>\n",
       "      <th>col_index</th>\n",
       "      <th>accidents_count</th>\n",
       "      <th>danger_level</th>\n",
       "      <th>district_count</th>\n",
       "      <th>city_count</th>\n",
       "      <th>municipality_count</th>\n",
       "      <th>private_public_count</th>\n",
       "      <th>type_count</th>\n",
       "      <th>geometry</th>\n",
       "      <th>over_100</th>\n",
       "      <th>over_250</th>\n",
       "    </tr>\n",
       "  </thead>\n",
       "  <tbody>\n",
       "    <tr>\n",
       "      <th>0</th>\n",
       "      <td>109</td>\n",
       "      <td>417051.316407</td>\n",
       "      <td>4.938592e+06</td>\n",
       "      <td>417551.316407</td>\n",
       "      <td>4.938092e+06</td>\n",
       "      <td>108</td>\n",
       "      <td>0</td>\n",
       "      <td>0.0</td>\n",
       "      <td>0–1</td>\n",
       "      <td>NaN</td>\n",
       "      <td>NaN</td>\n",
       "      <td>NaN</td>\n",
       "      <td>NaN</td>\n",
       "      <td>NaN</td>\n",
       "      <td>MULTIPOLYGON (((19.96119 44.59371, 19.96121 44...</td>\n",
       "      <td>no</td>\n",
       "      <td>no</td>\n",
       "    </tr>\n",
       "  </tbody>\n",
       "</table>\n",
       "</div>"
      ],
      "text/plain": [
       "    id           left           top          right        bottom  row_index  \\\n",
       "0  109  417051.316407  4.938592e+06  417551.316407  4.938092e+06        108   \n",
       "\n",
       "   col_index  accidents_count danger_level  district_count  city_count  \\\n",
       "0          0              0.0          0–1             NaN         NaN   \n",
       "\n",
       "   municipality_count  private_public_count  type_count  \\\n",
       "0                 NaN                   NaN         NaN   \n",
       "\n",
       "                                            geometry over_100 over_250  \n",
       "0  MULTIPOLYGON (((19.96119 44.59371, 19.96121 44...       no       no  "
      ]
     },
     "execution_count": 33,
     "metadata": {},
     "output_type": "execute_result"
    }
   ],
   "source": [
    "traffic_grids.head(1)"
   ]
  },
  {
   "cell_type": "code",
   "execution_count": 36,
   "id": "1d88f05c",
   "metadata": {},
   "outputs": [
    {
     "data": {
      "text/plain": [
       "count    13875.000000\n",
       "mean        10.306378\n",
       "std         56.823997\n",
       "min          0.000000\n",
       "25%          0.000000\n",
       "50%          0.000000\n",
       "75%          1.000000\n",
       "max       1323.000000\n",
       "Name: accidents_count, dtype: float64"
      ]
     },
     "execution_count": 36,
     "metadata": {},
     "output_type": "execute_result"
    }
   ],
   "source": [
    "traffic_grids['accidents_count'].describe()"
   ]
  },
  {
   "cell_type": "code",
   "execution_count": 25,
   "id": "13c4a3fd",
   "metadata": {},
   "outputs": [
    {
     "data": {
      "text/html": [
       "<div>\n",
       "<style scoped>\n",
       "    .dataframe tbody tr th:only-of-type {\n",
       "        vertical-align: middle;\n",
       "    }\n",
       "\n",
       "    .dataframe tbody tr th {\n",
       "        vertical-align: top;\n",
       "    }\n",
       "\n",
       "    .dataframe thead th {\n",
       "        text-align: right;\n",
       "    }\n",
       "</style>\n",
       "<table border=\"1\" class=\"dataframe\">\n",
       "  <thead>\n",
       "    <tr style=\"text-align: right;\">\n",
       "      <th></th>\n",
       "      <th>danger_level</th>\n",
       "      <th>district_count</th>\n",
       "    </tr>\n",
       "  </thead>\n",
       "  <tbody>\n",
       "    <tr>\n",
       "      <th>0</th>\n",
       "      <td>0–1</td>\n",
       "      <td>29.0</td>\n",
       "    </tr>\n",
       "    <tr>\n",
       "      <th>1</th>\n",
       "      <td>100–250</td>\n",
       "      <td>105.0</td>\n",
       "    </tr>\n",
       "    <tr>\n",
       "      <th>2</th>\n",
       "      <td>1–50</td>\n",
       "      <td>192.0</td>\n",
       "    </tr>\n",
       "    <tr>\n",
       "      <th>3</th>\n",
       "      <td>250–500</td>\n",
       "      <td>90.0</td>\n",
       "    </tr>\n",
       "    <tr>\n",
       "      <th>4</th>\n",
       "      <td>500–1323</td>\n",
       "      <td>83.0</td>\n",
       "    </tr>\n",
       "    <tr>\n",
       "      <th>5</th>\n",
       "      <td>50–100</td>\n",
       "      <td>64.0</td>\n",
       "    </tr>\n",
       "  </tbody>\n",
       "</table>\n",
       "</div>"
      ],
      "text/plain": [
       "  danger_level  district_count\n",
       "0          0–1            29.0\n",
       "1      100–250           105.0\n",
       "2         1–50           192.0\n",
       "3      250–500            90.0\n",
       "4     500–1323            83.0\n",
       "5       50–100            64.0"
      ]
     },
     "execution_count": 25,
     "metadata": {},
     "output_type": "execute_result"
    }
   ],
   "source": [
    "traffic_grids.groupby(['danger_level'])['district_count'].sum().reset_index()"
   ]
  },
  {
   "cell_type": "code",
   "execution_count": 26,
   "id": "147b4dc0",
   "metadata": {},
   "outputs": [
    {
     "name": "stdout",
     "output_type": "stream",
     "text": [
      "['0–1' '1–50' '100–250' '50–100' '250–500' '500–1323']\n"
     ]
    }
   ],
   "source": [
    "print(traffic_grids['danger_level'].unique())"
   ]
  },
  {
   "cell_type": "code",
   "execution_count": 27,
   "id": "63f7e25b",
   "metadata": {},
   "outputs": [],
   "source": [
    "over_100 = ['100–250', '250–500', '500–1323']\n",
    "\n",
    "def is_over_100(danger_level):\n",
    "    over_100_levels = ['100–250', '250–500', '500–1323']\n",
    "    return 'yes' if danger_level in over_100_levels else 'no'\n",
    "\n",
    "traffic_grids['over_100'] = traffic_grids['danger_level'].apply(is_over_100)"
   ]
  },
  {
   "cell_type": "code",
   "execution_count": 28,
   "id": "ed6921cb",
   "metadata": {},
   "outputs": [],
   "source": [
    "over_250 = ['500–1323', '250–500']\n",
    "\n",
    "def is_over_250(danger_level):\n",
    "    over_250_levels = ['250–500', '500–1323']\n",
    "    return 'yes' if danger_level in over_250_levels else 'no'\n",
    "\n",
    "traffic_grids['over_250'] = traffic_grids['danger_level'].apply(is_over_250)"
   ]
  },
  {
   "cell_type": "code",
   "execution_count": 29,
   "id": "fa7770dd",
   "metadata": {},
   "outputs": [
    {
     "data": {
      "text/html": [
       "<div>\n",
       "<style scoped>\n",
       "    .dataframe tbody tr th:only-of-type {\n",
       "        vertical-align: middle;\n",
       "    }\n",
       "\n",
       "    .dataframe tbody tr th {\n",
       "        vertical-align: top;\n",
       "    }\n",
       "\n",
       "    .dataframe thead th {\n",
       "        text-align: right;\n",
       "    }\n",
       "</style>\n",
       "<table border=\"1\" class=\"dataframe\">\n",
       "  <thead>\n",
       "    <tr style=\"text-align: right;\">\n",
       "      <th></th>\n",
       "      <th>id</th>\n",
       "      <th>left</th>\n",
       "      <th>top</th>\n",
       "      <th>right</th>\n",
       "      <th>bottom</th>\n",
       "      <th>row_index</th>\n",
       "      <th>col_index</th>\n",
       "      <th>accidents_count</th>\n",
       "      <th>danger_level</th>\n",
       "      <th>district_count</th>\n",
       "      <th>city_count</th>\n",
       "      <th>municipality_count</th>\n",
       "      <th>private_public_count</th>\n",
       "      <th>type_count</th>\n",
       "      <th>geometry</th>\n",
       "      <th>over_100</th>\n",
       "      <th>over_250</th>\n",
       "    </tr>\n",
       "  </thead>\n",
       "  <tbody>\n",
       "    <tr>\n",
       "      <th>0</th>\n",
       "      <td>109</td>\n",
       "      <td>417051.316407</td>\n",
       "      <td>4.938592e+06</td>\n",
       "      <td>417551.316407</td>\n",
       "      <td>4.938092e+06</td>\n",
       "      <td>108</td>\n",
       "      <td>0</td>\n",
       "      <td>0.0</td>\n",
       "      <td>0–1</td>\n",
       "      <td>NaN</td>\n",
       "      <td>NaN</td>\n",
       "      <td>NaN</td>\n",
       "      <td>NaN</td>\n",
       "      <td>NaN</td>\n",
       "      <td>MULTIPOLYGON (((19.96119 44.59371, 19.96121 44...</td>\n",
       "      <td>no</td>\n",
       "      <td>no</td>\n",
       "    </tr>\n",
       "  </tbody>\n",
       "</table>\n",
       "</div>"
      ],
      "text/plain": [
       "    id           left           top          right        bottom  row_index  \\\n",
       "0  109  417051.316407  4.938592e+06  417551.316407  4.938092e+06        108   \n",
       "\n",
       "   col_index  accidents_count danger_level  district_count  city_count  \\\n",
       "0          0              0.0          0–1             NaN         NaN   \n",
       "\n",
       "   municipality_count  private_public_count  type_count  \\\n",
       "0                 NaN                   NaN         NaN   \n",
       "\n",
       "                                            geometry over_100 over_250  \n",
       "0  MULTIPOLYGON (((19.96119 44.59371, 19.96121 44...       no       no  "
      ]
     },
     "execution_count": 29,
     "metadata": {},
     "output_type": "execute_result"
    }
   ],
   "source": [
    "traffic_grids.head(1)"
   ]
  },
  {
   "cell_type": "code",
   "execution_count": 30,
   "id": "ce6104d2",
   "metadata": {},
   "outputs": [
    {
     "data": {
      "text/html": [
       "<div>\n",
       "<style scoped>\n",
       "    .dataframe tbody tr th:only-of-type {\n",
       "        vertical-align: middle;\n",
       "    }\n",
       "\n",
       "    .dataframe tbody tr th {\n",
       "        vertical-align: top;\n",
       "    }\n",
       "\n",
       "    .dataframe thead th {\n",
       "        text-align: right;\n",
       "    }\n",
       "</style>\n",
       "<table border=\"1\" class=\"dataframe\">\n",
       "  <thead>\n",
       "    <tr style=\"text-align: right;\">\n",
       "      <th></th>\n",
       "      <th>over_100</th>\n",
       "      <th>district_count</th>\n",
       "    </tr>\n",
       "  </thead>\n",
       "  <tbody>\n",
       "    <tr>\n",
       "      <th>0</th>\n",
       "      <td>no</td>\n",
       "      <td>285.0</td>\n",
       "    </tr>\n",
       "    <tr>\n",
       "      <th>1</th>\n",
       "      <td>yes</td>\n",
       "      <td>278.0</td>\n",
       "    </tr>\n",
       "  </tbody>\n",
       "</table>\n",
       "</div>"
      ],
      "text/plain": [
       "  over_100  district_count\n",
       "0       no           285.0\n",
       "1      yes           278.0"
      ]
     },
     "execution_count": 30,
     "metadata": {},
     "output_type": "execute_result"
    }
   ],
   "source": [
    "traffic_grids.groupby(['over_100'])['district_count'].sum().reset_index()"
   ]
  },
  {
   "cell_type": "code",
   "execution_count": 31,
   "id": "d1b25bb6",
   "metadata": {},
   "outputs": [
    {
     "data": {
      "text/html": [
       "<div>\n",
       "<style scoped>\n",
       "    .dataframe tbody tr th:only-of-type {\n",
       "        vertical-align: middle;\n",
       "    }\n",
       "\n",
       "    .dataframe tbody tr th {\n",
       "        vertical-align: top;\n",
       "    }\n",
       "\n",
       "    .dataframe thead th {\n",
       "        text-align: right;\n",
       "    }\n",
       "</style>\n",
       "<table border=\"1\" class=\"dataframe\">\n",
       "  <thead>\n",
       "    <tr style=\"text-align: right;\">\n",
       "      <th></th>\n",
       "      <th>over_250</th>\n",
       "      <th>district_count</th>\n",
       "    </tr>\n",
       "  </thead>\n",
       "  <tbody>\n",
       "    <tr>\n",
       "      <th>0</th>\n",
       "      <td>no</td>\n",
       "      <td>390.0</td>\n",
       "    </tr>\n",
       "    <tr>\n",
       "      <th>1</th>\n",
       "      <td>yes</td>\n",
       "      <td>173.0</td>\n",
       "    </tr>\n",
       "  </tbody>\n",
       "</table>\n",
       "</div>"
      ],
      "text/plain": [
       "  over_250  district_count\n",
       "0       no           390.0\n",
       "1      yes           173.0"
      ]
     },
     "execution_count": 31,
     "metadata": {},
     "output_type": "execute_result"
    }
   ],
   "source": [
    "traffic_grids.groupby(['over_250'])['district_count'].sum().reset_index()"
   ]
  },
  {
   "cell_type": "code",
   "execution_count": 32,
   "id": "329f5e21",
   "metadata": {},
   "outputs": [
    {
     "data": {
      "text/plain": [
       "id                                                                  15291\n",
       "left                                                        457551.316407\n",
       "top                                                        4961591.819913\n",
       "right                                                       458051.316407\n",
       "bottom                                                     4961091.819913\n",
       "row_index                                                              62\n",
       "col_index                                                              81\n",
       "accidents_count                                                    1323.0\n",
       "danger_level                                                     500–1323\n",
       "district_count                                                        9.0\n",
       "city_count                                                            9.0\n",
       "municipality_count                                                    9.0\n",
       "private_public_count                                                  9.0\n",
       "type_count                                                            9.0\n",
       "geometry                MULTIPOLYGON (((20.463219692272414 44.80646689...\n",
       "over_100                                                              yes\n",
       "over_250                                                              yes\n",
       "Name: 8516, dtype: object"
      ]
     },
     "execution_count": 32,
     "metadata": {},
     "output_type": "execute_result"
    }
   ],
   "source": [
    "traffic_grids.loc[traffic_grids['accidents_count'].idxmax()]"
   ]
  },
  {
   "cell_type": "markdown",
   "id": "043f5d74",
   "metadata": {},
   "source": [
    "44.804447,20.466323 - koordinate"
   ]
  },
  {
   "cell_type": "code",
   "execution_count": 48,
   "id": "e4dea385",
   "metadata": {},
   "outputs": [
    {
     "data": {
      "text/plain": [
       "year\n",
       "2023    101\n",
       "2018     99\n",
       "2016     97\n",
       "2017     95\n",
       "2022     95\n",
       "2019     93\n",
       "2020     92\n",
       "2024     89\n",
       "2021     76\n",
       "Name: count, dtype: int64"
      ]
     },
     "execution_count": 48,
     "metadata": {},
     "output_type": "execute_result"
    }
   ],
   "source": [
    "fatalities = accidents_gdf[accidents_gdf.status == 'fatalities']\n",
    "fatalities['year'].value_counts()"
   ]
  },
  {
   "cell_type": "code",
   "execution_count": 51,
   "id": "f1e265fc",
   "metadata": {},
   "outputs": [
    {
     "data": {
      "text/plain": [
       "(143280, 14)"
      ]
     },
     "execution_count": 51,
     "metadata": {},
     "output_type": "execute_result"
    }
   ],
   "source": [
    "accidents_gdf.shape"
   ]
  },
  {
   "cell_type": "code",
   "execution_count": 64,
   "id": "ca302a53",
   "metadata": {},
   "outputs": [
    {
     "data": {
      "text/html": [
       "<div>\n",
       "<style scoped>\n",
       "    .dataframe tbody tr th:only-of-type {\n",
       "        vertical-align: middle;\n",
       "    }\n",
       "\n",
       "    .dataframe tbody tr th {\n",
       "        vertical-align: top;\n",
       "    }\n",
       "\n",
       "    .dataframe thead th {\n",
       "        text-align: right;\n",
       "    }\n",
       "</style>\n",
       "<table border=\"1\" class=\"dataframe\">\n",
       "  <thead>\n",
       "    <tr style=\"text-align: right;\">\n",
       "      <th></th>\n",
       "      <th>district</th>\n",
       "      <th>city</th>\n",
       "      <th>municipality</th>\n",
       "      <th>name</th>\n",
       "      <th>private_public</th>\n",
       "      <th>address</th>\n",
       "      <th>type</th>\n",
       "      <th>latitude</th>\n",
       "      <th>longitude</th>\n",
       "      <th>geometry_old</th>\n",
       "      <th>geometry</th>\n",
       "    </tr>\n",
       "  </thead>\n",
       "  <tbody>\n",
       "    <tr>\n",
       "      <th>0</th>\n",
       "      <td>grad beograd</td>\n",
       "      <td>beograd (savski venac)</td>\n",
       "      <td>savski venac</td>\n",
       "      <td>OŠ Zvezdobrojci</td>\n",
       "      <td>private</td>\n",
       "      <td>Drinićka 5 A/B, Beograd (Savski Venac), Savski...</td>\n",
       "      <td>elementary</td>\n",
       "      <td>44.790445</td>\n",
       "      <td>20.430742</td>\n",
       "      <td>POINT (454970.514 4959829.523)</td>\n",
       "      <td>POLYGON ((455220.514 4959829.523, 455219.31 49...</td>\n",
       "    </tr>\n",
       "  </tbody>\n",
       "</table>\n",
       "</div>"
      ],
      "text/plain": [
       "       district                    city  municipality             name  \\\n",
       "0  grad beograd  beograd (savski venac)  savski venac  OŠ Zvezdobrojci   \n",
       "\n",
       "  private_public                                            address  \\\n",
       "0        private  Drinićka 5 A/B, Beograd (Savski Venac), Savski...   \n",
       "\n",
       "         type   latitude  longitude                    geometry_old  \\\n",
       "0  elementary  44.790445  20.430742  POINT (454970.514 4959829.523)   \n",
       "\n",
       "                                            geometry  \n",
       "0  POLYGON ((455220.514 4959829.523, 455219.31 49...  "
      ]
     },
     "execution_count": 64,
     "metadata": {},
     "output_type": "execute_result"
    }
   ],
   "source": [
    "schools_gdf.head(1)"
   ]
  },
  {
   "cell_type": "code",
   "execution_count": 68,
   "id": "e5a9dea1",
   "metadata": {},
   "outputs": [
    {
     "data": {
      "text/plain": [
       "municipality\n",
       "zemun                 60\n",
       "čukarica              56\n",
       "palilula (beograd)    46\n",
       "obrenovac             46\n",
       "voždovac              44\n",
       "lazarevac             44\n",
       "savski venac          41\n",
       "stari grad            28\n",
       "barajevo              28\n",
       "mladenovac            27\n",
       "novi beograd          27\n",
       "zvezdara              27\n",
       "sopot                 20\n",
       "rakovica              20\n",
       "grocka                19\n",
       "vračar                19\n",
       "surčin                12\n",
       "Name: count, dtype: int64"
      ]
     },
     "execution_count": 68,
     "metadata": {},
     "output_type": "execute_result"
    }
   ],
   "source": [
    "schools_gdf['municipality'].value_counts()"
   ]
  },
  {
   "cell_type": "code",
   "execution_count": 69,
   "id": "54fadf90",
   "metadata": {},
   "outputs": [
    {
     "data": {
      "text/plain": [
       "69"
      ]
     },
     "execution_count": 69,
     "metadata": {},
     "output_type": "execute_result"
    }
   ],
   "source": [
    "41+28"
   ]
  },
  {
   "cell_type": "code",
   "execution_count": null,
   "id": "c0359228",
   "metadata": {},
   "outputs": [],
   "source": []
  }
 ],
 "metadata": {
  "kernelspec": {
   "display_name": "3.11.8",
   "language": "python",
   "name": "python3"
  },
  "language_info": {
   "codemirror_mode": {
    "name": "ipython",
    "version": 3
   },
   "file_extension": ".py",
   "mimetype": "text/x-python",
   "name": "python",
   "nbconvert_exporter": "python",
   "pygments_lexer": "ipython3",
   "version": "3.11.8"
  }
 },
 "nbformat": 4,
 "nbformat_minor": 5
}
